{
 "cells": [
  {
   "cell_type": "markdown",
   "metadata": {},
   "source": [
    "---\n",
    "\n",
    "_You are currently looking at **version 1.2** of this notebook. To download notebooks and datafiles, as well as get help on Jupyter notebooks in the Coursera platform, visit the [Jupyter Notebook FAQ](https://www.coursera.org/learn/python-machine-learning/resources/bANLa) course resource._\n",
    "\n",
    "---"
   ]
  },
  {
   "cell_type": "markdown",
   "metadata": {},
   "source": [
    "# Assignment 3 - Evaluation\n",
    "\n",
    "In this assignment you will train several models and evaluate how effectively they predict instances of fraud using data based on [this dataset from Kaggle](https://www.kaggle.com/dalpozz/creditcardfraud).\n",
    " \n",
    "Each row in `fraud_data.csv` corresponds to a credit card transaction. Features include confidential variables `V1` through `V28` as well as `Amount` which is the amount of the transaction. \n",
    " \n",
    "The target is stored in the `class` column, where a value of 1 corresponds to an instance of fraud and 0 corresponds to an instance of not fraud."
   ]
  },
  {
   "cell_type": "code",
   "execution_count": 5,
   "metadata": {
    "collapsed": true
   },
   "outputs": [],
   "source": [
    "import numpy as np\n",
    "import pandas as pd"
   ]
  },
  {
   "cell_type": "markdown",
   "metadata": {},
   "source": [
    "### Question 1\n",
    "Import the data from `fraud_data.csv`. What percentage of the observations in the dataset are instances of fraud?\n",
    "\n",
    "*This function should return a float between 0 and 1.* "
   ]
  },
  {
   "cell_type": "code",
   "execution_count": 6,
   "metadata": {
    "collapsed": false
   },
   "outputs": [
    {
     "data": {
      "text/plain": [
       "0.016410823768035772"
      ]
     },
     "execution_count": 6,
     "metadata": {},
     "output_type": "execute_result"
    }
   ],
   "source": [
    "def answer_one():\n",
    "    \n",
    "    fraud = pd.read_csv('fraud_data.csv')  \n",
    "    \n",
    "    return fraud.Class.mean()\n",
    "\n",
    "answer_one()"
   ]
  },
  {
   "cell_type": "code",
   "execution_count": 3,
   "metadata": {
    "collapsed": true
   },
   "outputs": [],
   "source": [
    "# Use X_train, X_test, y_train, y_test for all of the following questions\n",
    "from sklearn.model_selection import train_test_split\n",
    "\n",
    "df = pd.read_csv('fraud_data.csv')\n",
    "\n",
    "X = df.iloc[:,:-1]\n",
    "y = df.iloc[:,-1]\n",
    "\n",
    "X_train, X_test, y_train, y_test = train_test_split(X, y, random_state=0)"
   ]
  },
  {
   "cell_type": "markdown",
   "metadata": {},
   "source": [
    "### Question 2\n",
    "\n",
    "Using `X_train`, `X_test`, `y_train`, and `y_test` (as defined above), train a dummy classifier that classifies everything as the majority class of the training data. What is the accuracy of this classifier? What is the recall?\n",
    "\n",
    "*This function should a return a tuple with two floats, i.e. `(accuracy score, recall score)`.*"
   ]
  },
  {
   "cell_type": "code",
   "execution_count": 14,
   "metadata": {
    "collapsed": false
   },
   "outputs": [
    {
     "data": {
      "text/plain": [
       "(0.98525073746312686, 0.0)"
      ]
     },
     "execution_count": 14,
     "metadata": {},
     "output_type": "execute_result"
    }
   ],
   "source": [
    "def answer_two():\n",
    "    from sklearn.dummy import DummyClassifier\n",
    "    from sklearn.metrics import recall_score\n",
    "    \n",
    "    maj_dum = DummyClassifier(strategy = 'most_frequent').fit(X_train, y_train)\n",
    "    y_pred = maj_dum.predict(X_test)\n",
    "    rcs = recall_score(y_test, y_pred)\n",
    "    \n",
    "    return maj_dum.score(X_test, y_test), rcs\n",
    "\n",
    "answer_two()"
   ]
  },
  {
   "cell_type": "markdown",
   "metadata": {},
   "source": [
    "### Question 3\n",
    "\n",
    "Using X_train, X_test, y_train, y_test (as defined above), train a SVC classifer using the default parameters. What is the accuracy, recall, and precision of this classifier?\n",
    "\n",
    "*This function should a return a tuple with three floats, i.e. `(accuracy score, recall score, precision score)`.*"
   ]
  },
  {
   "cell_type": "code",
   "execution_count": 18,
   "metadata": {
    "collapsed": false
   },
   "outputs": [
    {
     "data": {
      "text/plain": [
       "(0.99784866924826354, 0.375, 1.0)"
      ]
     },
     "execution_count": 18,
     "metadata": {},
     "output_type": "execute_result"
    }
   ],
   "source": [
    "def answer_three():\n",
    "    from sklearn.metrics import recall_score, precision_score\n",
    "    from sklearn.svm import SVC\n",
    "\n",
    "    clf = SVC().fit(X_train, y_train)\n",
    "    \n",
    "    acc = clf.score(X_train, y_train)\n",
    "    \n",
    "    y_pred = clf.predict(X_test)\n",
    "    rcs = recall_score(y_test, y_pred)\n",
    "    pcs = precision_score(y_test, y_pred)\n",
    "    \n",
    "    \n",
    "    \n",
    "    return acc, rcs, pcs\n",
    "\n",
    "answer_three()"
   ]
  },
  {
   "cell_type": "markdown",
   "metadata": {},
   "source": [
    "### Question 4\n",
    "\n",
    "Using the SVC classifier with parameters `{'C': 1e9, 'gamma': 1e-07}`, what is the confusion matrix when using a threshold of -220 on the decision function. Use X_test and y_test.\n",
    "\n",
    "*This function should return a confusion matrix, a 2x2 numpy array with 4 integers.*"
   ]
  },
  {
   "cell_type": "code",
   "execution_count": 35,
   "metadata": {
    "collapsed": false
   },
   "outputs": [
    {
     "data": {
      "text/plain": [
       "array([[5320,   24],\n",
       "       [  14,   66]])"
      ]
     },
     "execution_count": 35,
     "metadata": {},
     "output_type": "execute_result"
    }
   ],
   "source": [
    "def answer_four():\n",
    "    from sklearn.metrics import confusion_matrix\n",
    "    from sklearn.svm import SVC\n",
    "\n",
    "    y_score = SVC(C=1e9, gamma=1e-07).fit(X_train, y_train).decision_function(X_test)\n",
    "    y_pred = []\n",
    "    for i in y_score:\n",
    "        a = int(np.where(i < -220, 0, 1))\n",
    "        y_pred.append(a)\n",
    "        \n",
    "    confusion = confusion_matrix(y_test, y_pred)\n",
    "    \n",
    "    return confusion\n",
    "\n",
    "answer_four()"
   ]
  },
  {
   "cell_type": "markdown",
   "metadata": {},
   "source": [
    "### Question 5\n",
    "\n",
    "Train a logisitic regression classifier with default parameters using X_train and y_train.\n",
    "\n",
    "For the logisitic regression classifier, create a precision recall curve and a roc curve using y_test and the probability estimates for X_test (probability it is fraud).\n",
    "\n",
    "Looking at the precision recall curve, what is the recall when the precision is `0.75`?\n",
    "\n",
    "Looking at the roc curve, what is the true positive rate when the false positive rate is `0.16`?\n",
    "\n",
    "*This function should return a tuple with two floats, i.e. `(recall, true positive rate)`.*"
   ]
  },
  {
   "cell_type": "code",
   "execution_count": 8,
   "metadata": {
    "collapsed": false
   },
   "outputs": [
    {
     "data": {
      "image/png": "[encoded data removed]",
      "text/plain": [
       "<matplotlib.figure.Figure at 0x7fed72205e10>"
      ]
     },
     "metadata": {},
     "output_type": "display_data"
    },
    {
     "data": {
      "image/png": "[encoded data removed]",
      "text/plain": [
       "<matplotlib.figure.Figure at 0x7fed73a3cc50>"
      ]
     },
     "metadata": {},
     "output_type": "display_data"
    },
    {
     "data": {
      "text/plain": [
       "(0.85, 0.9)"
      ]
     },
     "execution_count": 8,
     "metadata": {},
     "output_type": "execute_result"
    }
   ],
   "source": [
    "def answer_five():\n",
    "    #import matplotlib.pyplot as plt    \n",
    "    from sklearn.linear_model import LogisticRegression\n",
    "    from sklearn.metrics import precision_recall_curve\n",
    "    from sklearn.metrics import roc_curve, auc\n",
    "    \n",
    "    clf_scores = LogisticRegression().fit(X_train, y_train).decision_function(X_test)\n",
    "    \n",
    "    precision, recall, thresholds = precision_recall_curve(y_test, clf_scores)\n",
    "    '''\n",
    "    plt.figure()\n",
    "    plt.xlim([0.0, 1.01])\n",
    "    plt.ylim([0.0, 1.01])\n",
    "    plt.plot(precision, recall, label='Precision-Recall Curve')\n",
    "    plt.xlabel('Precision', fontsize=16)\n",
    "    plt.ylabel('Recall', fontsize=16)\n",
    "    plt.axes().set_aspect('equal')\n",
    "    plt.show()\n",
    "    '''\n",
    "    fpr_lr, tpr_lr, _ = roc_curve(y_test, clf_scores) \n",
    "    '''\n",
    "    plt.figure()\n",
    "    plt.xlim([-0.01, 1.00])\n",
    "    plt.ylim([-0.01, 1.01])\n",
    "    plt.plot(fpr_lr, tpr_lr, lw=3)\n",
    "    plt.xlabel('False Positive Rate', fontsize=16)\n",
    "    plt.ylabel('True Positive Rate', fontsize=16)\n",
    "    plt.plot([0, 1], [0, 1], color='navy', lw=3, linestyle='--')\n",
    "    plt.axes().set_aspect('equal')\n",
    "    plt.show()\n",
    "    '''\n",
    "    return (0.85, 0.90)"
   ]
  },
  {
   "cell_type": "markdown",
   "metadata": {},
   "source": [
    "### Question 6\n",
    "\n",
    "Perform a grid search over the parameters listed below for a Logisitic Regression classifier, using recall for scoring and the default 3-fold cross validation.\n",
    "\n",
    "`'penalty': ['l1', 'l2']`\n",
    "\n",
    "`'C':[0.01, 0.1, 1, 10, 100]`\n",
    "\n",
    "From `.cv_results_`, create an array of the mean test scores of each parameter combination. i.e.\n",
    "\n",
    "|      \t| `l1` \t| `l2` \t|\n",
    "|:----:\t|----\t|----\t|\n",
    "| **`0.01`** \t|    ?\t|   ? \t|\n",
    "| **`0.1`**  \t|    ?\t|   ? \t|\n",
    "| **`1`**    \t|    ?\t|   ? \t|\n",
    "| **`10`**   \t|    ?\t|   ? \t|\n",
    "| **`100`**   \t|    ?\t|   ? \t|\n",
    "\n",
    "<br>\n",
    "\n",
    "*This function should return a 5 by 2 numpy array with 10 floats.* \n",
    "\n",
    "*Note: do not return a DataFrame, just the values denoted by '?' above in a numpy array. You might need to reshape your raw result to meet the format we are looking for.*"
   ]
  },
  {
   "cell_type": "code",
   "execution_count": 20,
   "metadata": {
    "collapsed": false
   },
   "outputs": [
    {
     "data": {
      "text/plain": [
       "{'mean_fit_time': array([ 0.29566161,  0.41568613,  0.25934863,  0.39573256,  0.41577156,\n",
       "         0.46392353,  0.47097699]),\n",
       " 'mean_score_time': array([ 0.00191673,  0.00178711,  0.01928202,  0.00189885,  0.00176692,\n",
       "         0.01923172,  0.00185752]),\n",
       " 'mean_test_score': array([ 0.8115942 ,  0.8115942 ,  0.76086957,  0.80434783,  0.8115942 ,\n",
       "         0.8115942 ,  0.80797101]),\n",
       " 'mean_train_score': array([ 0.81884058,  0.81702899,  0.77355072,  0.8134058 ,  0.81702899,\n",
       "         0.82427536,  0.82427536]),\n",
       " 'param_C': masked_array(data = [-- -- 0.01 0.1 1 10 100],\n",
       "              mask = [ True  True False False False False False],\n",
       "        fill_value = ?),\n",
       " 'param_penalty': masked_array(data = ['l1' 'l2' -- -- -- -- --],\n",
       "              mask = [False False  True  True  True  True  True],\n",
       "        fill_value = ?),\n",
       " 'params': ({'penalty': 'l1'},\n",
       "  {'penalty': 'l2'},\n",
       "  {'C': 0.01},\n",
       "  {'C': 0.1},\n",
       "  {'C': 1},\n",
       "  {'C': 10},\n",
       "  {'C': 100}),\n",
       " 'rank_test_score': array([2, 2, 7, 6, 2, 1, 5], dtype=int32),\n",
       " 'split0_test_score': array([ 0.82608696,  0.82608696,  0.80434783,  0.82608696,  0.82608696,\n",
       "         0.83695652,  0.82608696]),\n",
       " 'split0_train_score': array([ 0.82065217,  0.81521739,  0.77173913,  0.80978261,  0.81521739,\n",
       "         0.82065217,  0.82065217]),\n",
       " 'split1_test_score': array([ 0.83695652,  0.83695652,  0.75      ,  0.83695652,  0.83695652,\n",
       "         0.83695652,  0.83695652]),\n",
       " 'split1_train_score': array([ 0.80978261,  0.80978261,  0.76630435,  0.80434783,  0.80978261,\n",
       "         0.81521739,  0.81521739]),\n",
       " 'split2_test_score': array([ 0.77173913,  0.77173913,  0.72826087,  0.75      ,  0.77173913,\n",
       "         0.76086957,  0.76086957]),\n",
       " 'split2_train_score': array([ 0.82608696,  0.82608696,  0.7826087 ,  0.82608696,  0.82608696,\n",
       "         0.83695652,  0.83695652]),\n",
       " 'std_fit_time': array([ 0.09436477,  0.01055203,  0.03535981,  0.00650686,  0.07673495,\n",
       "         0.0429316 ,  0.05020059]),\n",
       " 'std_score_time': array([  1.54418854e-05,   4.31137151e-05,   2.45534533e-02,\n",
       "          5.22212285e-05,   8.94005031e-05,   2.45976614e-02,\n",
       "          8.06059332e-05]),\n",
       " 'std_test_score': array([ 0.02852901,  0.02852901,  0.03199913,  0.03868507,  0.02852901,\n",
       "         0.03586774,  0.03360007]),\n",
       " 'std_train_score': array([ 0.00677836,  0.00677836,  0.00677836,  0.00923735,  0.00677836,\n",
       "         0.00923735,  0.00923735])}"
      ]
     },
     "execution_count": 20,
     "metadata": {},
     "output_type": "execute_result"
    }
   ],
   "source": [
    "def answer_six():    \n",
    "    from sklearn.model_selection import GridSearchCV\n",
    "    from sklearn.linear_model import LogisticRegression\n",
    "\n",
    "    clf = LogisticRegression().fit(X_train, y_train)\n",
    "    \n",
    "    penalty_values = {'penalty': ['l1', 'l2']}\n",
    "    C_values = {'C': [0.01, 0.1, 1, 10, 100]}\n",
    "    \n",
    "    grid_values = [penalty_values, C_values]\n",
    "    \n",
    "    grid_clf = GridSearchCV(clf, param_grid = grid_values, scoring='recall').fit(X_train, y_train)\n",
    "    \n",
    "    results = grid_clf.cv_results_\n",
    "    \n",
    "    mts = results['mean_test_score']\n",
    "    \n",
    "    return results\n",
    "\n",
    "answer_six()"
   ]
  },
  {
   "cell_type": "code",
   "execution_count": null,
   "metadata": {
    "collapsed": true
   },
   "outputs": [],
   "source": [
    "# Use the following function to help visualize results from the grid search\n",
    "def GridSearch_Heatmap(scores):\n",
    "    %matplotlib notebook\n",
    "    import seaborn as sns\n",
    "    import matplotlib.pyplot as plt\n",
    "    plt.figure()\n",
    "    sns.heatmap(scores.reshape(5,2), xticklabels=['l1','l2'], yticklabels=[0.01, 0.1, 1, 10, 100])\n",
    "    plt.yticks(rotation=0);\n",
    "\n",
    "#GridSearch_Heatmap(answer_six())"
   ]
  }
 ],
 "metadata": {
  "coursera": {
   "course_slug": "python-machine-learning",
   "graded_item_id": "5yX9Z",
   "launcher_item_id": "eqnV3",
   "part_id": "Msnj0"
  },
  "kernelspec": {
   "display_name": "Python 3",
   "language": "python",
   "name": "python3"
  },
  "language_info": {
   "codemirror_mode": {
    "name": "ipython",
    "version": 3
   },
   "file_extension": ".py",
   "mimetype": "text/x-python",
   "name": "python",
   "nbconvert_exporter": "python",
   "pygments_lexer": "ipython3",
   "version": "3.6.2"
  }
 },
 "nbformat": 4,
 "nbformat_minor": 2
}
